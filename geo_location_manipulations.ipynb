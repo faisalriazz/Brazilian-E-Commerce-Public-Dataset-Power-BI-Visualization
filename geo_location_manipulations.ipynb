{
 "metadata": {
  "language_info": {
   "codemirror_mode": {
    "name": "ipython",
    "version": 3
   },
   "file_extension": ".py",
   "mimetype": "text/x-python",
   "name": "python",
   "nbconvert_exporter": "python",
   "pygments_lexer": "ipython3",
   "version": "3.7.10"
  },
  "orig_nbformat": 2,
  "kernelspec": {
   "name": "python3",
   "display_name": "Python 3.7.10 64-bit ('base': conda)"
  },
  "interpreter": {
   "hash": "b3ba2566441a7c06988d0923437866b63cedc61552a5af99d1f4fb67d367b25f"
  }
 },
 "nbformat": 4,
 "nbformat_minor": 2,
 "cells": [
  {
   "source": [
    "# Data manipuation for gelocation dataset and creating junction table to avoid many to many relationship between seller, customer and geolocation dataset."
   ],
   "cell_type": "markdown",
   "metadata": {}
  },
  {
   "cell_type": "code",
   "execution_count": 3,
   "metadata": {},
   "outputs": [],
   "source": [
    "import pandas as pd"
   ]
  },
  {
   "cell_type": "code",
   "execution_count": 4,
   "metadata": {},
   "outputs": [
    {
     "output_type": "execute_result",
     "data": {
      "text/plain": [
       "   geolocation_zip_code_prefix  geolocation_lat  geolocation_lng  \\\n",
       "0                         1037       -23.545621       -46.639292   \n",
       "1                         1046       -23.546081       -46.644820   \n",
       "2                         1046       -23.546129       -46.642951   \n",
       "3                         1041       -23.544392       -46.639499   \n",
       "4                         1035       -23.541578       -46.641607   \n",
       "\n",
       "  geolocation_city geolocation_state  \n",
       "0        sao paulo                SP  \n",
       "1        sao paulo                SP  \n",
       "2        sao paulo                SP  \n",
       "3        sao paulo                SP  \n",
       "4        sao paulo                SP  "
      ],
      "text/html": "<div>\n<style scoped>\n    .dataframe tbody tr th:only-of-type {\n        vertical-align: middle;\n    }\n\n    .dataframe tbody tr th {\n        vertical-align: top;\n    }\n\n    .dataframe thead th {\n        text-align: right;\n    }\n</style>\n<table border=\"1\" class=\"dataframe\">\n  <thead>\n    <tr style=\"text-align: right;\">\n      <th></th>\n      <th>geolocation_zip_code_prefix</th>\n      <th>geolocation_lat</th>\n      <th>geolocation_lng</th>\n      <th>geolocation_city</th>\n      <th>geolocation_state</th>\n    </tr>\n  </thead>\n  <tbody>\n    <tr>\n      <th>0</th>\n      <td>1037</td>\n      <td>-23.545621</td>\n      <td>-46.639292</td>\n      <td>sao paulo</td>\n      <td>SP</td>\n    </tr>\n    <tr>\n      <th>1</th>\n      <td>1046</td>\n      <td>-23.546081</td>\n      <td>-46.644820</td>\n      <td>sao paulo</td>\n      <td>SP</td>\n    </tr>\n    <tr>\n      <th>2</th>\n      <td>1046</td>\n      <td>-23.546129</td>\n      <td>-46.642951</td>\n      <td>sao paulo</td>\n      <td>SP</td>\n    </tr>\n    <tr>\n      <th>3</th>\n      <td>1041</td>\n      <td>-23.544392</td>\n      <td>-46.639499</td>\n      <td>sao paulo</td>\n      <td>SP</td>\n    </tr>\n    <tr>\n      <th>4</th>\n      <td>1035</td>\n      <td>-23.541578</td>\n      <td>-46.641607</td>\n      <td>sao paulo</td>\n      <td>SP</td>\n    </tr>\n  </tbody>\n</table>\n</div>"
     },
     "metadata": {},
     "execution_count": 4
    }
   ],
   "source": [
    "geo_loc = pd.read_csv('./geolocation.csv')\n",
    "geo_loc.head()"
   ]
  },
  {
   "cell_type": "code",
   "execution_count": 5,
   "metadata": {},
   "outputs": [],
   "source": [
    "states = geo_loc['geolocation_state'].unique()"
   ]
  },
  {
   "cell_type": "code",
   "execution_count": 6,
   "metadata": {},
   "outputs": [
    {
     "output_type": "execute_result",
     "data": {
      "text/plain": [
       "array(['SP', 'RN', 'AC', 'RJ', 'ES', 'MG', 'BA', 'SE', 'PE', 'AL', 'PB',\n",
       "       'CE', 'PI', 'MA', 'PA', 'AP', 'AM', 'RR', 'DF', 'GO', 'RO', 'TO',\n",
       "       'MT', 'MS', 'RS', 'PR', 'SC'], dtype=object)"
      ]
     },
     "metadata": {},
     "execution_count": 6
    }
   ],
   "source": [
    "states"
   ]
  },
  {
   "cell_type": "code",
   "execution_count": 7,
   "metadata": {},
   "outputs": [],
   "source": [
    "u_states = pd.DataFrame({'state_code':states})\n",
    "u_states.to_csv('./states.csv')"
   ]
  },
  {
   "cell_type": "code",
   "execution_count": 9,
   "metadata": {},
   "outputs": [],
   "source": [
    "zip_mean_lat_long = geo_loc.groupby(['geolocation_zip_code_prefix']).agg({'geolocation_lat':'mean','geolocation_lng':'mean'}) # grouping on state and zipcode aggregating on lat and long mean"
   ]
  },
  {
   "cell_type": "code",
   "execution_count": 10,
   "metadata": {},
   "outputs": [
    {
     "output_type": "execute_result",
     "data": {
      "text/plain": [
       "                             geolocation_lat  geolocation_lng\n",
       "geolocation_zip_code_prefix                                  \n",
       "1001                              -23.550190       -46.634024\n",
       "1002                              -23.548146       -46.634979\n",
       "1003                              -23.548994       -46.635731\n",
       "1004                              -23.549799       -46.634757\n",
       "1005                              -23.549456       -46.636733"
      ],
      "text/html": "<div>\n<style scoped>\n    .dataframe tbody tr th:only-of-type {\n        vertical-align: middle;\n    }\n\n    .dataframe tbody tr th {\n        vertical-align: top;\n    }\n\n    .dataframe thead th {\n        text-align: right;\n    }\n</style>\n<table border=\"1\" class=\"dataframe\">\n  <thead>\n    <tr style=\"text-align: right;\">\n      <th></th>\n      <th>geolocation_lat</th>\n      <th>geolocation_lng</th>\n    </tr>\n    <tr>\n      <th>geolocation_zip_code_prefix</th>\n      <th></th>\n      <th></th>\n    </tr>\n  </thead>\n  <tbody>\n    <tr>\n      <th>1001</th>\n      <td>-23.550190</td>\n      <td>-46.634024</td>\n    </tr>\n    <tr>\n      <th>1002</th>\n      <td>-23.548146</td>\n      <td>-46.634979</td>\n    </tr>\n    <tr>\n      <th>1003</th>\n      <td>-23.548994</td>\n      <td>-46.635731</td>\n    </tr>\n    <tr>\n      <th>1004</th>\n      <td>-23.549799</td>\n      <td>-46.634757</td>\n    </tr>\n    <tr>\n      <th>1005</th>\n      <td>-23.549456</td>\n      <td>-46.636733</td>\n    </tr>\n  </tbody>\n</table>\n</div>"
     },
     "metadata": {},
     "execution_count": 10
    }
   ],
   "source": [
    "zip_mean_lat_long.head()"
   ]
  },
  {
   "cell_type": "code",
   "execution_count": 11,
   "metadata": {},
   "outputs": [],
   "source": [
    "# merging using left join with geolocation table to extract state,zipcode,lat and long\n",
    "state_zip_lat_lng = pd.merge(zip_mean_lat_long,geo_loc,on='geolocation_zip_code_prefix',how='left')[['geolocation_state','geolocation_zip_code_prefix','geolocation_lat_x','geolocation_lng_x']]"
   ]
  },
  {
   "cell_type": "code",
   "execution_count": 12,
   "metadata": {},
   "outputs": [
    {
     "output_type": "execute_result",
     "data": {
      "text/plain": [
       "        geolocation_state  geolocation_zip_code_prefix  geolocation_lat_x  \\\n",
       "0                      SP                         1001         -23.550190   \n",
       "1                      SP                         1001         -23.550190   \n",
       "2                      SP                         1001         -23.550190   \n",
       "3                      SP                         1001         -23.550190   \n",
       "4                      SP                         1001         -23.550190   \n",
       "...                   ...                          ...                ...   \n",
       "1000158                RS                        99980         -28.389129   \n",
       "1000159                RS                        99980         -28.389129   \n",
       "1000160                RS                        99980         -28.389129   \n",
       "1000161                RS                        99990         -28.329595   \n",
       "1000162                RS                        99990         -28.329595   \n",
       "\n",
       "         geolocation_lng_x  \n",
       "0               -46.634024  \n",
       "1               -46.634024  \n",
       "2               -46.634024  \n",
       "3               -46.634024  \n",
       "4               -46.634024  \n",
       "...                    ...  \n",
       "1000158         -51.843836  \n",
       "1000159         -51.843836  \n",
       "1000160         -51.843836  \n",
       "1000161         -51.769362  \n",
       "1000162         -51.769362  \n",
       "\n",
       "[1000163 rows x 4 columns]"
      ],
      "text/html": "<div>\n<style scoped>\n    .dataframe tbody tr th:only-of-type {\n        vertical-align: middle;\n    }\n\n    .dataframe tbody tr th {\n        vertical-align: top;\n    }\n\n    .dataframe thead th {\n        text-align: right;\n    }\n</style>\n<table border=\"1\" class=\"dataframe\">\n  <thead>\n    <tr style=\"text-align: right;\">\n      <th></th>\n      <th>geolocation_state</th>\n      <th>geolocation_zip_code_prefix</th>\n      <th>geolocation_lat_x</th>\n      <th>geolocation_lng_x</th>\n    </tr>\n  </thead>\n  <tbody>\n    <tr>\n      <th>0</th>\n      <td>SP</td>\n      <td>1001</td>\n      <td>-23.550190</td>\n      <td>-46.634024</td>\n    </tr>\n    <tr>\n      <th>1</th>\n      <td>SP</td>\n      <td>1001</td>\n      <td>-23.550190</td>\n      <td>-46.634024</td>\n    </tr>\n    <tr>\n      <th>2</th>\n      <td>SP</td>\n      <td>1001</td>\n      <td>-23.550190</td>\n      <td>-46.634024</td>\n    </tr>\n    <tr>\n      <th>3</th>\n      <td>SP</td>\n      <td>1001</td>\n      <td>-23.550190</td>\n      <td>-46.634024</td>\n    </tr>\n    <tr>\n      <th>4</th>\n      <td>SP</td>\n      <td>1001</td>\n      <td>-23.550190</td>\n      <td>-46.634024</td>\n    </tr>\n    <tr>\n      <th>...</th>\n      <td>...</td>\n      <td>...</td>\n      <td>...</td>\n      <td>...</td>\n    </tr>\n    <tr>\n      <th>1000158</th>\n      <td>RS</td>\n      <td>99980</td>\n      <td>-28.389129</td>\n      <td>-51.843836</td>\n    </tr>\n    <tr>\n      <th>1000159</th>\n      <td>RS</td>\n      <td>99980</td>\n      <td>-28.389129</td>\n      <td>-51.843836</td>\n    </tr>\n    <tr>\n      <th>1000160</th>\n      <td>RS</td>\n      <td>99980</td>\n      <td>-28.389129</td>\n      <td>-51.843836</td>\n    </tr>\n    <tr>\n      <th>1000161</th>\n      <td>RS</td>\n      <td>99990</td>\n      <td>-28.329595</td>\n      <td>-51.769362</td>\n    </tr>\n    <tr>\n      <th>1000162</th>\n      <td>RS</td>\n      <td>99990</td>\n      <td>-28.329595</td>\n      <td>-51.769362</td>\n    </tr>\n  </tbody>\n</table>\n<p>1000163 rows × 4 columns</p>\n</div>"
     },
     "metadata": {},
     "execution_count": 12
    }
   ],
   "source": [
    "state_zip_lat_lng"
   ]
  },
  {
   "cell_type": "code",
   "execution_count": 13,
   "metadata": {},
   "outputs": [
    {
     "output_type": "execute_result",
     "data": {
      "text/plain": [
       "True     981140\n",
       "False     19023\n",
       "dtype: int64"
      ]
     },
     "metadata": {},
     "execution_count": 13
    }
   ],
   "source": [
    "state_zip_lat_lng.duplicated().value_counts()"
   ]
  },
  {
   "cell_type": "code",
   "execution_count": 14,
   "metadata": {},
   "outputs": [
    {
     "output_type": "execute_result",
     "data": {
      "text/plain": [
       "19015"
      ]
     },
     "metadata": {},
     "execution_count": 14
    }
   ],
   "source": [
    "state_zip_lat_lng['geolocation_zip_code_prefix'].nunique()"
   ]
  },
  {
   "cell_type": "code",
   "execution_count": 15,
   "metadata": {},
   "outputs": [],
   "source": [
    "# removing duplicates and keeping only one lat and long for one zip code\n",
    "state_zip_lat_lng = state_zip_lat_lng.drop_duplicates()\n",
    "state_zip_lat_lng.to_csv('./state_zip_lat_lng.csv',index=False) # saving it to csv file with no index"
   ]
  },
  {
   "cell_type": "code",
   "execution_count": 16,
   "metadata": {},
   "outputs": [
    {
     "output_type": "execute_result",
     "data": {
      "text/plain": [
       "                          seller_id  seller_zip_code_prefix  \\\n",
       "0  3442f8959a84dea7ee197c632cb2df15                   13023   \n",
       "1  d1b65fc7debc3361ea86b5f14c68d2e2                   13844   \n",
       "2  ce3ad9de960102d0677a81f5d0bb7b2d                   20031   \n",
       "3  c0f3eea2e14555b6faeea3dd58c1b1c3                    4195   \n",
       "4  51a04a8a6bdcb23deccc82b0b80742cf                   12914   \n",
       "\n",
       "         seller_city seller_state  \n",
       "0           campinas           SP  \n",
       "1         mogi guacu           SP  \n",
       "2     rio de janeiro           RJ  \n",
       "3          sao paulo           SP  \n",
       "4  braganca paulista           SP  "
      ],
      "text/html": "<div>\n<style scoped>\n    .dataframe tbody tr th:only-of-type {\n        vertical-align: middle;\n    }\n\n    .dataframe tbody tr th {\n        vertical-align: top;\n    }\n\n    .dataframe thead th {\n        text-align: right;\n    }\n</style>\n<table border=\"1\" class=\"dataframe\">\n  <thead>\n    <tr style=\"text-align: right;\">\n      <th></th>\n      <th>seller_id</th>\n      <th>seller_zip_code_prefix</th>\n      <th>seller_city</th>\n      <th>seller_state</th>\n    </tr>\n  </thead>\n  <tbody>\n    <tr>\n      <th>0</th>\n      <td>3442f8959a84dea7ee197c632cb2df15</td>\n      <td>13023</td>\n      <td>campinas</td>\n      <td>SP</td>\n    </tr>\n    <tr>\n      <th>1</th>\n      <td>d1b65fc7debc3361ea86b5f14c68d2e2</td>\n      <td>13844</td>\n      <td>mogi guacu</td>\n      <td>SP</td>\n    </tr>\n    <tr>\n      <th>2</th>\n      <td>ce3ad9de960102d0677a81f5d0bb7b2d</td>\n      <td>20031</td>\n      <td>rio de janeiro</td>\n      <td>RJ</td>\n    </tr>\n    <tr>\n      <th>3</th>\n      <td>c0f3eea2e14555b6faeea3dd58c1b1c3</td>\n      <td>4195</td>\n      <td>sao paulo</td>\n      <td>SP</td>\n    </tr>\n    <tr>\n      <th>4</th>\n      <td>51a04a8a6bdcb23deccc82b0b80742cf</td>\n      <td>12914</td>\n      <td>braganca paulista</td>\n      <td>SP</td>\n    </tr>\n  </tbody>\n</table>\n</div>"
     },
     "metadata": {},
     "execution_count": 16
    }
   ],
   "source": [
    "sellers = pd.read_csv('./sellers.csv')\n",
    "sellers.head()"
   ]
  },
  {
   "cell_type": "code",
   "execution_count": 17,
   "metadata": {},
   "outputs": [],
   "source": [
    "customers = pd.read_csv('./customers.csv')"
   ]
  },
  {
   "cell_type": "code",
   "execution_count": 18,
   "metadata": {},
   "outputs": [
    {
     "output_type": "execute_result",
     "data": {
      "text/plain": [
       "                        customer_id                customer_unique_id  \\\n",
       "0  06b8999e2fba1a1fbc88172c00ba8bc7  861eff4711a542e4b93843c6dd7febb0   \n",
       "1  18955e83d337fd6b2def6b18a428ac77  290c77bc529b7ac935b93aa66c333dc3   \n",
       "2  4e7b3e00288586ebd08712fdd0374a03  060e732b5b29e8181a18229c7b0b2b5e   \n",
       "3  b2b6027bc5c5109e529d4dc6358b12c3  259dac757896d24d7702b9acbbff3f3c   \n",
       "4  4f2d8ab171c80ec8364f7c12e35b23ad  345ecd01c38d18a9036ed96c73b8d066   \n",
       "\n",
       "   customer_zip_code_prefix          customer_city customer_state  \n",
       "0                     14409                 franca             SP  \n",
       "1                      9790  sao bernardo do campo             SP  \n",
       "2                      1151              sao paulo             SP  \n",
       "3                      8775        mogi das cruzes             SP  \n",
       "4                     13056               campinas             SP  "
      ],
      "text/html": "<div>\n<style scoped>\n    .dataframe tbody tr th:only-of-type {\n        vertical-align: middle;\n    }\n\n    .dataframe tbody tr th {\n        vertical-align: top;\n    }\n\n    .dataframe thead th {\n        text-align: right;\n    }\n</style>\n<table border=\"1\" class=\"dataframe\">\n  <thead>\n    <tr style=\"text-align: right;\">\n      <th></th>\n      <th>customer_id</th>\n      <th>customer_unique_id</th>\n      <th>customer_zip_code_prefix</th>\n      <th>customer_city</th>\n      <th>customer_state</th>\n    </tr>\n  </thead>\n  <tbody>\n    <tr>\n      <th>0</th>\n      <td>06b8999e2fba1a1fbc88172c00ba8bc7</td>\n      <td>861eff4711a542e4b93843c6dd7febb0</td>\n      <td>14409</td>\n      <td>franca</td>\n      <td>SP</td>\n    </tr>\n    <tr>\n      <th>1</th>\n      <td>18955e83d337fd6b2def6b18a428ac77</td>\n      <td>290c77bc529b7ac935b93aa66c333dc3</td>\n      <td>9790</td>\n      <td>sao bernardo do campo</td>\n      <td>SP</td>\n    </tr>\n    <tr>\n      <th>2</th>\n      <td>4e7b3e00288586ebd08712fdd0374a03</td>\n      <td>060e732b5b29e8181a18229c7b0b2b5e</td>\n      <td>1151</td>\n      <td>sao paulo</td>\n      <td>SP</td>\n    </tr>\n    <tr>\n      <th>3</th>\n      <td>b2b6027bc5c5109e529d4dc6358b12c3</td>\n      <td>259dac757896d24d7702b9acbbff3f3c</td>\n      <td>8775</td>\n      <td>mogi das cruzes</td>\n      <td>SP</td>\n    </tr>\n    <tr>\n      <th>4</th>\n      <td>4f2d8ab171c80ec8364f7c12e35b23ad</td>\n      <td>345ecd01c38d18a9036ed96c73b8d066</td>\n      <td>13056</td>\n      <td>campinas</td>\n      <td>SP</td>\n    </tr>\n  </tbody>\n</table>\n</div>"
     },
     "metadata": {},
     "execution_count": 18
    }
   ],
   "source": [
    "customers.head()"
   ]
  },
  {
   "cell_type": "code",
   "execution_count": 19,
   "metadata": {},
   "outputs": [],
   "source": [
    "# meging sellers with state_zip_lat_lng to generate a composite key based on seller id and zip code \n",
    "sellers_juction_table = state_zip_lat_lng.merge(sellers,left_on='geolocation_zip_code_prefix',right_on='seller_zip_code_prefix',how='inner')[['seller_id','geolocation_zip_code_prefix']]"
   ]
  },
  {
   "cell_type": "code",
   "execution_count": 20,
   "metadata": {},
   "outputs": [
    {
     "output_type": "execute_result",
     "data": {
      "text/plain": [
       "                             seller_id  geolocation_zip_code_prefix\n",
       "0     8602a61d680a10a82cceeeda0d99ea3d                         1001\n",
       "1     e0487761face83d64fcada2408959a36                         1021\n",
       "2     dd55f1bb788714a40e7954c3be6df745                         1021\n",
       "3     09bad886111255c5b5030314fc7f1a4a                         1022\n",
       "4     f049a72cf58fd31b11f8919cade515e7                         1023\n",
       "...                                ...                          ...\n",
       "3084  447d377bdb757058acb569025ee18a93                        99500\n",
       "3085  b1a81260566c1bac3114a6d124413f27                        99500\n",
       "3086  4fae87d32467e18eb46e4a76a0a0b9ce                        99670\n",
       "3087  968ee78631915a63fef426d6733d7422                        99700\n",
       "3088  d1c7fa84e48cfa21a0e595167c1c500e                        99730\n",
       "\n",
       "[3089 rows x 2 columns]"
      ],
      "text/html": "<div>\n<style scoped>\n    .dataframe tbody tr th:only-of-type {\n        vertical-align: middle;\n    }\n\n    .dataframe tbody tr th {\n        vertical-align: top;\n    }\n\n    .dataframe thead th {\n        text-align: right;\n    }\n</style>\n<table border=\"1\" class=\"dataframe\">\n  <thead>\n    <tr style=\"text-align: right;\">\n      <th></th>\n      <th>seller_id</th>\n      <th>geolocation_zip_code_prefix</th>\n    </tr>\n  </thead>\n  <tbody>\n    <tr>\n      <th>0</th>\n      <td>8602a61d680a10a82cceeeda0d99ea3d</td>\n      <td>1001</td>\n    </tr>\n    <tr>\n      <th>1</th>\n      <td>e0487761face83d64fcada2408959a36</td>\n      <td>1021</td>\n    </tr>\n    <tr>\n      <th>2</th>\n      <td>dd55f1bb788714a40e7954c3be6df745</td>\n      <td>1021</td>\n    </tr>\n    <tr>\n      <th>3</th>\n      <td>09bad886111255c5b5030314fc7f1a4a</td>\n      <td>1022</td>\n    </tr>\n    <tr>\n      <th>4</th>\n      <td>f049a72cf58fd31b11f8919cade515e7</td>\n      <td>1023</td>\n    </tr>\n    <tr>\n      <th>...</th>\n      <td>...</td>\n      <td>...</td>\n    </tr>\n    <tr>\n      <th>3084</th>\n      <td>447d377bdb757058acb569025ee18a93</td>\n      <td>99500</td>\n    </tr>\n    <tr>\n      <th>3085</th>\n      <td>b1a81260566c1bac3114a6d124413f27</td>\n      <td>99500</td>\n    </tr>\n    <tr>\n      <th>3086</th>\n      <td>4fae87d32467e18eb46e4a76a0a0b9ce</td>\n      <td>99670</td>\n    </tr>\n    <tr>\n      <th>3087</th>\n      <td>968ee78631915a63fef426d6733d7422</td>\n      <td>99700</td>\n    </tr>\n    <tr>\n      <th>3088</th>\n      <td>d1c7fa84e48cfa21a0e595167c1c500e</td>\n      <td>99730</td>\n    </tr>\n  </tbody>\n</table>\n<p>3089 rows × 2 columns</p>\n</div>"
     },
     "metadata": {},
     "execution_count": 20
    }
   ],
   "source": [
    "sellers_juction_table"
   ]
  },
  {
   "cell_type": "code",
   "execution_count": 21,
   "metadata": {},
   "outputs": [],
   "source": [
    "sellers_juction_table.to_csv('./seller_junction_table.csv',index=False)"
   ]
  },
  {
   "cell_type": "code",
   "execution_count": 22,
   "metadata": {},
   "outputs": [],
   "source": [
    "# meging customer with state_zip_lat_lng to generate a composite key based on customer id and zip code \n",
    "customers_juction_table = state_zip_lat_lng.merge(customers,left_on='geolocation_zip_code_prefix',right_on='customer_zip_code_prefix',how='inner')[['customer_id','geolocation_zip_code_prefix']]"
   ]
  },
  {
   "cell_type": "code",
   "execution_count": 23,
   "metadata": {},
   "outputs": [
    {
     "output_type": "execute_result",
     "data": {
      "text/plain": [
       "                            customer_id  geolocation_zip_code_prefix\n",
       "0      7ae2a9337aa4bc799723511faa1d6830                         1003\n",
       "1      a09edf8c1e842e94805a206b3d73eed5                         1004\n",
       "2      ee9b73e88afb4904ee2322cfc89cf638                         1004\n",
       "3      5a8b64ee6ccdae09ea823e6aa00e9517                         1005\n",
       "4      6ec2b4682814cfdac8d92bad42b3ddab                         1005\n",
       "...                                 ...                          ...\n",
       "99232  235702411e5214f0e4a0761bf5ce9e99                        99965\n",
       "99233  3ab8bc00f8740d54afc4c771fb6c7f69                        99970\n",
       "99234  964b34423c822e9bd9831635ccc83db2                        99980\n",
       "99235  657ba09c6edfbbc09f6054f541ec1f90                        99980\n",
       "99236  f04c3f6e20a2a4318d97d7cec1d27bbf                        99990\n",
       "\n",
       "[99237 rows x 2 columns]"
      ],
      "text/html": "<div>\n<style scoped>\n    .dataframe tbody tr th:only-of-type {\n        vertical-align: middle;\n    }\n\n    .dataframe tbody tr th {\n        vertical-align: top;\n    }\n\n    .dataframe thead th {\n        text-align: right;\n    }\n</style>\n<table border=\"1\" class=\"dataframe\">\n  <thead>\n    <tr style=\"text-align: right;\">\n      <th></th>\n      <th>customer_id</th>\n      <th>geolocation_zip_code_prefix</th>\n    </tr>\n  </thead>\n  <tbody>\n    <tr>\n      <th>0</th>\n      <td>7ae2a9337aa4bc799723511faa1d6830</td>\n      <td>1003</td>\n    </tr>\n    <tr>\n      <th>1</th>\n      <td>a09edf8c1e842e94805a206b3d73eed5</td>\n      <td>1004</td>\n    </tr>\n    <tr>\n      <th>2</th>\n      <td>ee9b73e88afb4904ee2322cfc89cf638</td>\n      <td>1004</td>\n    </tr>\n    <tr>\n      <th>3</th>\n      <td>5a8b64ee6ccdae09ea823e6aa00e9517</td>\n      <td>1005</td>\n    </tr>\n    <tr>\n      <th>4</th>\n      <td>6ec2b4682814cfdac8d92bad42b3ddab</td>\n      <td>1005</td>\n    </tr>\n    <tr>\n      <th>...</th>\n      <td>...</td>\n      <td>...</td>\n    </tr>\n    <tr>\n      <th>99232</th>\n      <td>235702411e5214f0e4a0761bf5ce9e99</td>\n      <td>99965</td>\n    </tr>\n    <tr>\n      <th>99233</th>\n      <td>3ab8bc00f8740d54afc4c771fb6c7f69</td>\n      <td>99970</td>\n    </tr>\n    <tr>\n      <th>99234</th>\n      <td>964b34423c822e9bd9831635ccc83db2</td>\n      <td>99980</td>\n    </tr>\n    <tr>\n      <th>99235</th>\n      <td>657ba09c6edfbbc09f6054f541ec1f90</td>\n      <td>99980</td>\n    </tr>\n    <tr>\n      <th>99236</th>\n      <td>f04c3f6e20a2a4318d97d7cec1d27bbf</td>\n      <td>99990</td>\n    </tr>\n  </tbody>\n</table>\n<p>99237 rows × 2 columns</p>\n</div>"
     },
     "metadata": {},
     "execution_count": 23
    }
   ],
   "source": [
    "customers_juction_table"
   ]
  },
  {
   "cell_type": "code",
   "execution_count": 24,
   "metadata": {},
   "outputs": [],
   "source": [
    "customers_juction_table.to_csv('./customer_junction_table.csv',index=False)"
   ]
  },
  {
   "cell_type": "code",
   "execution_count": 56,
   "metadata": {},
   "outputs": [
    {
     "output_type": "execute_result",
     "data": {
      "text/plain": [
       "Index(['order_id', 'customer_id', 'order_status', 'order_purchase_timestamp',\n",
       "       'order_approved_at', 'order_delivered_carrier_date',\n",
       "       'order_delivered_customer_date', 'order_estimated_delivery_date'],\n",
       "      dtype='object')"
      ]
     },
     "metadata": {},
     "execution_count": 56
    }
   ],
   "source": [
    "orders=pd.read_csv('./orders.csv')\n",
    "orders.columns"
   ]
  },
  {
   "cell_type": "code",
   "execution_count": 57,
   "metadata": {},
   "outputs": [
    {
     "output_type": "execute_result",
     "data": {
      "text/plain": [
       "Index(['customer_id', 'customer_unique_id', 'customer_zip_code_prefix',\n",
       "       'customer_city', 'customer_state'],\n",
       "      dtype='object')"
      ]
     },
     "metadata": {},
     "execution_count": 57
    }
   ],
   "source": [
    "customers.columns"
   ]
  },
  {
   "cell_type": "code",
   "execution_count": 58,
   "metadata": {},
   "outputs": [
    {
     "output_type": "execute_result",
     "data": {
      "text/plain": [
       "                            customer_id customer_state  \\\n",
       "0      9ef432eb6251297304e76186b10a928d             SP   \n",
       "1      b0830fb4747a6c6d20dea0b8c802d7ef             BA   \n",
       "2      41ce2a54c0b03bf3443c3d931a367089             GO   \n",
       "3      f88197465ea7920adcdbec7375364d82             RN   \n",
       "4      8ab97904e6daea8866dbdbc4fb7aad2c             SP   \n",
       "...                                 ...            ...   \n",
       "99436  39bd1228ee8140590ac3aca26f2dfe00             SP   \n",
       "99437  1fca14ff2861355f6e5f14306ff977a7             SP   \n",
       "99438  1aa71eb042121263aafbe80c1b562c9c             BA   \n",
       "99439  b331b74b18dc79bcdf6532d51e1637c1             RJ   \n",
       "99440  edb027a75a1449115f6b43211ae02a24             PR   \n",
       "\n",
       "                               order_id  \n",
       "0      e481f51cbdc54678b7cc49136f2d6af7  \n",
       "1      53cdb2fc8bc7dce0b6741e2150273451  \n",
       "2      47770eb9100c2d0c44946d9cf07ec65d  \n",
       "3      949d5b44dbf5de918fe9c16f97b45f8a  \n",
       "4      ad21c59c0840e6cb83a9ceb5573f8159  \n",
       "...                                 ...  \n",
       "99436  9c5dedf39a927c1b2549525ed64a053c  \n",
       "99437  63943bddc261676b46f01ca7ac2f7bd8  \n",
       "99438  83c1379a015df1e13d02aae0204711ab  \n",
       "99439  11c177c8e97725db2631073c19f07b62  \n",
       "99440  66dea50a8b16d9b4dee7af250b4be1a5  \n",
       "\n",
       "[99441 rows x 3 columns]"
      ],
      "text/html": "<div>\n<style scoped>\n    .dataframe tbody tr th:only-of-type {\n        vertical-align: middle;\n    }\n\n    .dataframe tbody tr th {\n        vertical-align: top;\n    }\n\n    .dataframe thead th {\n        text-align: right;\n    }\n</style>\n<table border=\"1\" class=\"dataframe\">\n  <thead>\n    <tr style=\"text-align: right;\">\n      <th></th>\n      <th>customer_id</th>\n      <th>customer_state</th>\n      <th>order_id</th>\n    </tr>\n  </thead>\n  <tbody>\n    <tr>\n      <th>0</th>\n      <td>9ef432eb6251297304e76186b10a928d</td>\n      <td>SP</td>\n      <td>e481f51cbdc54678b7cc49136f2d6af7</td>\n    </tr>\n    <tr>\n      <th>1</th>\n      <td>b0830fb4747a6c6d20dea0b8c802d7ef</td>\n      <td>BA</td>\n      <td>53cdb2fc8bc7dce0b6741e2150273451</td>\n    </tr>\n    <tr>\n      <th>2</th>\n      <td>41ce2a54c0b03bf3443c3d931a367089</td>\n      <td>GO</td>\n      <td>47770eb9100c2d0c44946d9cf07ec65d</td>\n    </tr>\n    <tr>\n      <th>3</th>\n      <td>f88197465ea7920adcdbec7375364d82</td>\n      <td>RN</td>\n      <td>949d5b44dbf5de918fe9c16f97b45f8a</td>\n    </tr>\n    <tr>\n      <th>4</th>\n      <td>8ab97904e6daea8866dbdbc4fb7aad2c</td>\n      <td>SP</td>\n      <td>ad21c59c0840e6cb83a9ceb5573f8159</td>\n    </tr>\n    <tr>\n      <th>...</th>\n      <td>...</td>\n      <td>...</td>\n      <td>...</td>\n    </tr>\n    <tr>\n      <th>99436</th>\n      <td>39bd1228ee8140590ac3aca26f2dfe00</td>\n      <td>SP</td>\n      <td>9c5dedf39a927c1b2549525ed64a053c</td>\n    </tr>\n    <tr>\n      <th>99437</th>\n      <td>1fca14ff2861355f6e5f14306ff977a7</td>\n      <td>SP</td>\n      <td>63943bddc261676b46f01ca7ac2f7bd8</td>\n    </tr>\n    <tr>\n      <th>99438</th>\n      <td>1aa71eb042121263aafbe80c1b562c9c</td>\n      <td>BA</td>\n      <td>83c1379a015df1e13d02aae0204711ab</td>\n    </tr>\n    <tr>\n      <th>99439</th>\n      <td>b331b74b18dc79bcdf6532d51e1637c1</td>\n      <td>RJ</td>\n      <td>11c177c8e97725db2631073c19f07b62</td>\n    </tr>\n    <tr>\n      <th>99440</th>\n      <td>edb027a75a1449115f6b43211ae02a24</td>\n      <td>PR</td>\n      <td>66dea50a8b16d9b4dee7af250b4be1a5</td>\n    </tr>\n  </tbody>\n</table>\n<p>99441 rows × 3 columns</p>\n</div>"
     },
     "metadata": {},
     "execution_count": 58
    }
   ],
   "source": [
    "pd.merge(orders,customers,how='inner',on='customer_id')[['customer_id','customer_state','order_id']]"
   ]
  },
  {
   "cell_type": "code",
   "execution_count": 77,
   "metadata": {},
   "outputs": [],
   "source": [
    "orders_per_cust_state =orders_cust_state.groupby('customer_state').agg({\"order_id\":\"count\",\"customer_id\":\"count\"})"
   ]
  },
  {
   "cell_type": "code",
   "execution_count": 62,
   "metadata": {},
   "outputs": [],
   "source": [
    "order_items =pd.read_csv(\"./order_items.csv\")\n",
    "# order_items.columns\n",
    "# sellers.columns"
   ]
  },
  {
   "cell_type": "code",
   "execution_count": 63,
   "metadata": {},
   "outputs": [
    {
     "output_type": "execute_result",
     "data": {
      "text/plain": [
       "                                order_id  order_item_id  \\\n",
       "0       00010242fe8c5a6d1ba2dd792cb16214              1   \n",
       "1       00018f77f2f0320c557190d7a144bdd3              1   \n",
       "2       000229ec398224ef6ca0657da4fc703e              1   \n",
       "3       00024acbcdf0a6daa1e931b038114c75              1   \n",
       "4       00042b26cf59d7ce69dfabb4e55b4fd9              1   \n",
       "...                                  ...            ...   \n",
       "112645  fffc94f6ce00a00581880bf54a75a037              1   \n",
       "112646  fffcd46ef2263f404302a634eb57f7eb              1   \n",
       "112647  fffce4705a9662cd70adb13d4a31832d              1   \n",
       "112648  fffe18544ffabc95dfada21779c9644f              1   \n",
       "112649  fffe41c64501cc87c801fd61db3f6244              1   \n",
       "\n",
       "                              product_id                         seller_id  \\\n",
       "0       4244733e06e7ecb4970a6e2683c13e61  48436dade18ac8b2bce089ec2a041202   \n",
       "1       e5f2d52b802189ee658865ca93d83a8f  dd7ddc04e1b6c2c614352b383efe2d36   \n",
       "2       c777355d18b72b67abbeef9df44fd0fd  5b51032eddd242adc84c38acab88f23d   \n",
       "3       7634da152a4610f1595efa32f14722fc  9d7a1d34a5052409006425275ba1c2b4   \n",
       "4       ac6c3623068f30de03045865e4e10089  df560393f3a51e74553ab94004ba5c87   \n",
       "...                                  ...                               ...   \n",
       "112645  4aa6014eceb682077f9dc4bffebc05b0  b8bc237ba3788b23da09c0f1f3a3288c   \n",
       "112646  32e07fd915822b0765e448c4dd74c828  f3c38ab652836d21de61fb8314b69182   \n",
       "112647  72a30483855e2eafc67aee5dc2560482  c3cfdc648177fdbbbb35635a37472c53   \n",
       "112648  9c422a519119dcad7575db5af1ba540e  2b3e4a2a3ea8e01938cabda2a3e5cc79   \n",
       "112649  350688d9dc1e75ff97be326363655e01  f7ccf836d21b2fb1de37564105216cc1   \n",
       "\n",
       "        shipping_limit_date   price  freight_value  \n",
       "0       2017-09-19 09:45:35   58.90          13.29  \n",
       "1       2017-05-03 11:05:13  239.90          19.93  \n",
       "2       2018-01-18 14:48:30  199.00          17.87  \n",
       "3       2018-08-15 10:10:18   12.99          12.79  \n",
       "4       2017-02-13 13:57:51  199.90          18.14  \n",
       "...                     ...     ...            ...  \n",
       "112645  2018-05-02 04:11:01  299.99          43.41  \n",
       "112646  2018-07-20 04:31:48  350.00          36.53  \n",
       "112647  2017-10-30 17:14:25   99.90          16.95  \n",
       "112648  2017-08-21 00:04:32   55.99           8.72  \n",
       "112649  2018-06-12 17:10:13   43.00          12.79  \n",
       "\n",
       "[112650 rows x 7 columns]"
      ],
      "text/html": "<div>\n<style scoped>\n    .dataframe tbody tr th:only-of-type {\n        vertical-align: middle;\n    }\n\n    .dataframe tbody tr th {\n        vertical-align: top;\n    }\n\n    .dataframe thead th {\n        text-align: right;\n    }\n</style>\n<table border=\"1\" class=\"dataframe\">\n  <thead>\n    <tr style=\"text-align: right;\">\n      <th></th>\n      <th>order_id</th>\n      <th>order_item_id</th>\n      <th>product_id</th>\n      <th>seller_id</th>\n      <th>shipping_limit_date</th>\n      <th>price</th>\n      <th>freight_value</th>\n    </tr>\n  </thead>\n  <tbody>\n    <tr>\n      <th>0</th>\n      <td>00010242fe8c5a6d1ba2dd792cb16214</td>\n      <td>1</td>\n      <td>4244733e06e7ecb4970a6e2683c13e61</td>\n      <td>48436dade18ac8b2bce089ec2a041202</td>\n      <td>2017-09-19 09:45:35</td>\n      <td>58.90</td>\n      <td>13.29</td>\n    </tr>\n    <tr>\n      <th>1</th>\n      <td>00018f77f2f0320c557190d7a144bdd3</td>\n      <td>1</td>\n      <td>e5f2d52b802189ee658865ca93d83a8f</td>\n      <td>dd7ddc04e1b6c2c614352b383efe2d36</td>\n      <td>2017-05-03 11:05:13</td>\n      <td>239.90</td>\n      <td>19.93</td>\n    </tr>\n    <tr>\n      <th>2</th>\n      <td>000229ec398224ef6ca0657da4fc703e</td>\n      <td>1</td>\n      <td>c777355d18b72b67abbeef9df44fd0fd</td>\n      <td>5b51032eddd242adc84c38acab88f23d</td>\n      <td>2018-01-18 14:48:30</td>\n      <td>199.00</td>\n      <td>17.87</td>\n    </tr>\n    <tr>\n      <th>3</th>\n      <td>00024acbcdf0a6daa1e931b038114c75</td>\n      <td>1</td>\n      <td>7634da152a4610f1595efa32f14722fc</td>\n      <td>9d7a1d34a5052409006425275ba1c2b4</td>\n      <td>2018-08-15 10:10:18</td>\n      <td>12.99</td>\n      <td>12.79</td>\n    </tr>\n    <tr>\n      <th>4</th>\n      <td>00042b26cf59d7ce69dfabb4e55b4fd9</td>\n      <td>1</td>\n      <td>ac6c3623068f30de03045865e4e10089</td>\n      <td>df560393f3a51e74553ab94004ba5c87</td>\n      <td>2017-02-13 13:57:51</td>\n      <td>199.90</td>\n      <td>18.14</td>\n    </tr>\n    <tr>\n      <th>...</th>\n      <td>...</td>\n      <td>...</td>\n      <td>...</td>\n      <td>...</td>\n      <td>...</td>\n      <td>...</td>\n      <td>...</td>\n    </tr>\n    <tr>\n      <th>112645</th>\n      <td>fffc94f6ce00a00581880bf54a75a037</td>\n      <td>1</td>\n      <td>4aa6014eceb682077f9dc4bffebc05b0</td>\n      <td>b8bc237ba3788b23da09c0f1f3a3288c</td>\n      <td>2018-05-02 04:11:01</td>\n      <td>299.99</td>\n      <td>43.41</td>\n    </tr>\n    <tr>\n      <th>112646</th>\n      <td>fffcd46ef2263f404302a634eb57f7eb</td>\n      <td>1</td>\n      <td>32e07fd915822b0765e448c4dd74c828</td>\n      <td>f3c38ab652836d21de61fb8314b69182</td>\n      <td>2018-07-20 04:31:48</td>\n      <td>350.00</td>\n      <td>36.53</td>\n    </tr>\n    <tr>\n      <th>112647</th>\n      <td>fffce4705a9662cd70adb13d4a31832d</td>\n      <td>1</td>\n      <td>72a30483855e2eafc67aee5dc2560482</td>\n      <td>c3cfdc648177fdbbbb35635a37472c53</td>\n      <td>2017-10-30 17:14:25</td>\n      <td>99.90</td>\n      <td>16.95</td>\n    </tr>\n    <tr>\n      <th>112648</th>\n      <td>fffe18544ffabc95dfada21779c9644f</td>\n      <td>1</td>\n      <td>9c422a519119dcad7575db5af1ba540e</td>\n      <td>2b3e4a2a3ea8e01938cabda2a3e5cc79</td>\n      <td>2017-08-21 00:04:32</td>\n      <td>55.99</td>\n      <td>8.72</td>\n    </tr>\n    <tr>\n      <th>112649</th>\n      <td>fffe41c64501cc87c801fd61db3f6244</td>\n      <td>1</td>\n      <td>350688d9dc1e75ff97be326363655e01</td>\n      <td>f7ccf836d21b2fb1de37564105216cc1</td>\n      <td>2018-06-12 17:10:13</td>\n      <td>43.00</td>\n      <td>12.79</td>\n    </tr>\n  </tbody>\n</table>\n<p>112650 rows × 7 columns</p>\n</div>"
     },
     "metadata": {},
     "execution_count": 63
    }
   ],
   "source": [
    "order_items"
   ]
  },
  {
   "cell_type": "code",
   "execution_count": 64,
   "metadata": {},
   "outputs": [
    {
     "output_type": "execute_result",
     "data": {
      "text/plain": [
       "Index(['seller_id', 'seller_zip_code_prefix', 'seller_city', 'seller_state'], dtype='object')"
      ]
     },
     "metadata": {},
     "execution_count": 64
    }
   ],
   "source": [
    "sellers.columns"
   ]
  },
  {
   "cell_type": "code",
   "execution_count": 71,
   "metadata": {},
   "outputs": [],
   "source": [
    "order_items_seller =pd.merge(order_items,sellers,how='left',on='seller_id',suffixes=('_x','_y'))"
   ]
  },
  {
   "cell_type": "code",
   "execution_count": 75,
   "metadata": {},
   "outputs": [],
   "source": [
    "orders_per_seller_state = order_items_seller.groupby('seller_state').agg({\"order_id\":\"count\"})"
   ]
  },
  {
   "cell_type": "code",
   "execution_count": 76,
   "metadata": {},
   "outputs": [
    {
     "output_type": "execute_result",
     "data": {
      "text/plain": [
       "              order_id\n",
       "seller_state          \n",
       "AC                   1\n",
       "AM                   3\n",
       "BA                 643\n",
       "CE                  94\n",
       "DF                 899\n",
       "ES                 372\n",
       "GO                 520\n",
       "MA                 405\n",
       "MG                8827\n",
       "MS                  50\n",
       "MT                 145\n",
       "PA                   8\n",
       "PB                  38\n",
       "PE                 448\n",
       "PI                  12\n",
       "PR                8671\n",
       "RJ                4818\n",
       "RN                  56\n",
       "RO                  14\n",
       "RS                2199\n",
       "SC                4075\n",
       "SE                  10\n",
       "SP               80342"
      ],
      "text/html": "<div>\n<style scoped>\n    .dataframe tbody tr th:only-of-type {\n        vertical-align: middle;\n    }\n\n    .dataframe tbody tr th {\n        vertical-align: top;\n    }\n\n    .dataframe thead th {\n        text-align: right;\n    }\n</style>\n<table border=\"1\" class=\"dataframe\">\n  <thead>\n    <tr style=\"text-align: right;\">\n      <th></th>\n      <th>order_id</th>\n    </tr>\n    <tr>\n      <th>seller_state</th>\n      <th></th>\n    </tr>\n  </thead>\n  <tbody>\n    <tr>\n      <th>AC</th>\n      <td>1</td>\n    </tr>\n    <tr>\n      <th>AM</th>\n      <td>3</td>\n    </tr>\n    <tr>\n      <th>BA</th>\n      <td>643</td>\n    </tr>\n    <tr>\n      <th>CE</th>\n      <td>94</td>\n    </tr>\n    <tr>\n      <th>DF</th>\n      <td>899</td>\n    </tr>\n    <tr>\n      <th>ES</th>\n      <td>372</td>\n    </tr>\n    <tr>\n      <th>GO</th>\n      <td>520</td>\n    </tr>\n    <tr>\n      <th>MA</th>\n      <td>405</td>\n    </tr>\n    <tr>\n      <th>MG</th>\n      <td>8827</td>\n    </tr>\n    <tr>\n      <th>MS</th>\n      <td>50</td>\n    </tr>\n    <tr>\n      <th>MT</th>\n      <td>145</td>\n    </tr>\n    <tr>\n      <th>PA</th>\n      <td>8</td>\n    </tr>\n    <tr>\n      <th>PB</th>\n      <td>38</td>\n    </tr>\n    <tr>\n      <th>PE</th>\n      <td>448</td>\n    </tr>\n    <tr>\n      <th>PI</th>\n      <td>12</td>\n    </tr>\n    <tr>\n      <th>PR</th>\n      <td>8671</td>\n    </tr>\n    <tr>\n      <th>RJ</th>\n      <td>4818</td>\n    </tr>\n    <tr>\n      <th>RN</th>\n      <td>56</td>\n    </tr>\n    <tr>\n      <th>RO</th>\n      <td>14</td>\n    </tr>\n    <tr>\n      <th>RS</th>\n      <td>2199</td>\n    </tr>\n    <tr>\n      <th>SC</th>\n      <td>4075</td>\n    </tr>\n    <tr>\n      <th>SE</th>\n      <td>10</td>\n    </tr>\n    <tr>\n      <th>SP</th>\n      <td>80342</td>\n    </tr>\n  </tbody>\n</table>\n</div>"
     },
     "metadata": {},
     "execution_count": 76
    }
   ],
   "source": [
    "orders_per_seller_state"
   ]
  },
  {
   "cell_type": "code",
   "execution_count": 80,
   "metadata": {},
   "outputs": [],
   "source": [
    "orders_per_seller_state.to_csv(\"./orders_per_seller_state.csv\")"
   ]
  },
  {
   "cell_type": "code",
   "execution_count": 81,
   "metadata": {},
   "outputs": [],
   "source": [
    "orders_per_cust_state.to_csv(\"./orders_per_cust_state.csv\")"
   ]
  },
  {
   "cell_type": "code",
   "execution_count": null,
   "metadata": {},
   "outputs": [],
   "source": []
  }
 ]
}